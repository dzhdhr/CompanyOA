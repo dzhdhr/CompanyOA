{
 "cells": [
  {
   "cell_type": "markdown",
   "id": "93682e1b",
   "metadata": {
    "pycharm": {
     "name": "#%% md\n"
    }
   },
   "source": [
    "## 1. Circular Printer"
   ]
  },
  {
   "cell_type": "markdown",
   "id": "24b7a1ee",
   "metadata": {
    "pycharm": {
     "name": "#%% md\n"
    }
   },
   "source": [
    "https://leetcode.com/discuss/interview-question/1263982/Thomson-Reuters-or-OA-or-Circular-Printer"
   ]
  },
  {
   "cell_type": "code",
   "execution_count": null,
   "id": "57335cdd",
   "metadata": {
    "pycharm": {
     "name": "#%%\n"
    }
   },
   "outputs": [],
   "source": [
    "class Solution:\n",
    "    def getTimes(self, string):\n",
    "        out = 0\n",
    "        prev_char = \"A\"\n",
    "        for ch in string:\n",
    "            gap = min((ord(ch) - ord(prev_char)) % 26, (-ord(ch) + ord(prev_char)) % 26)\n",
    "            prev_char = ch\n",
    "            out += gap\n",
    "        return out"
   ]
  },
  {
   "cell_type": "markdown",
   "id": "6e3cd27c",
   "metadata": {
    "pycharm": {
     "name": "#%% md\n"
    }
   },
   "source": [
    "## 2. Minimum Size Subarray Sum"
   ]
  },
  {
   "cell_type": "markdown",
   "id": "e9594ab2",
   "metadata": {
    "pycharm": {
     "name": "#%% md\n"
    }
   },
   "source": [
    "https://leetcode.com/problems/minimum-size-subarray-sum/"
   ]
  },
  {
   "cell_type": "code",
   "execution_count": 19,
   "id": "15fa7fb3",
   "metadata": {
    "pycharm": {
     "name": "#%%\n"
    }
   },
   "outputs": [],
   "source": [
    "class Solution:\n",
    "    def minSubArrayLen(self, target: int, nums) -> int:\n",
    "        if not nums or not target:\n",
    "            return 0\n",
    "        l = 0\n",
    "        ans = float(\"inf\")\n",
    "        sum = 0\n",
    "        for i in range(0, len(nums)):\n",
    "            sum += nums[i]\n",
    "            while sum >= target:\n",
    "                ans = min(ans, i - l + 1)\n",
    "                sum -= nums[l]\n",
    "                l += 1\n",
    "        return 0 if ans == float(\"inf\") else ans"
   ]
  },
  {
   "cell_type": "markdown",
   "id": "24f66ad2",
   "metadata": {
    "pycharm": {
     "name": "#%% md\n"
    }
   },
   "source": [
    "## 3. Dominos Tiling 3D"
   ]
  },
  {
   "cell_type": "markdown",
   "id": "7730d59e",
   "metadata": {
    "pycharm": {
     "name": "#%% md\n"
    }
   },
   "source": [
    "https://www.1point3acres.com/bbs/thread-835608-1-1.html"
   ]
  },
  {
   "cell_type": "code",
   "execution_count": 28,
   "id": "2f4d2d3f",
   "metadata": {
    "pycharm": {
     "name": "#%%\n"
    }
   },
   "outputs": [
    {
     "data": {
      "text/plain": [
       "2"
      ]
     },
     "execution_count": 28,
     "metadata": {},
     "output_type": "execute_result"
    }
   ],
   "source": [
    "def numtil(n):\n",
    "    dp = [0] * (n + 1)\n",
    "    dpa = [0] * (n + 1)\n",
    "    dp[0], dp[1], dpa[0], dpa[1] = 1, 2, 0, 1\n",
    "    for i in range(2, n + 1):\n",
    "        dpa[i] = dpa[i - 1] + dp[i - 1] % 1000000007\n",
    "        dp[i] = (2*dpa[i]+2*dpa[i-1]+dp[i-2]) % 1000000007\n",
    "    return dp[n]\n",
    "numtil(1)"
   ]
  },
  {
   "cell_type": "markdown",
   "id": "f2d2e482",
   "metadata": {
    "pycharm": {
     "name": "#%% md\n"
    }
   },
   "source": [
    "## 4. Preprocessed Dates"
   ]
  },
  {
   "cell_type": "markdown",
   "id": "058efd24",
   "metadata": {
    "pycharm": {
     "name": "#%% md\n"
    }
   },
   "source": [
    "https://leetcode.com/problems/reformat-date/"
   ]
  },
  {
   "cell_type": "code",
   "execution_count": null,
   "id": "1d2906b8",
   "metadata": {
    "pycharm": {
     "name": "#%%\n"
    }
   },
   "outputs": [],
   "source": [
    "class Solution:\n",
    "    def reformatDate(self, date: str) -> str:\n",
    "        month = {m: i+1 for i, m in enumerate([\"Jan\", \"Feb\", \"Mar\", \"Apr\", \"May\", \"Jun\", \"Jul\", \"Aug\", \"Sep\", \"Oct\", \"Nov\", \"Dec\"])}\n",
    "        d, m, y = date.split()\n",
    "        return \"{}-{:02d}-{:02d}\".format(y, month[m], int(d[:-2]))"
   ]
  },
  {
   "cell_type": "markdown",
   "id": "2eb7add6",
   "metadata": {
    "pycharm": {
     "name": "#%% md\n"
    }
   },
   "source": [
    "## 5. Shared Interest"
   ]
  },
  {
   "cell_type": "markdown",
   "id": "6464263e",
   "metadata": {
    "pycharm": {
     "name": "#%% md\n"
    }
   },
   "source": [
    "https://leetcode.com/discuss/interview-question/725801/amazon-shared-interest-problem"
   ]
  },
  {
   "cell_type": "code",
   "execution_count": 25,
   "id": "d6462808",
   "metadata": {
    "pycharm": {
     "name": "#%%\n"
    }
   },
   "outputs": [
    {
     "name": "stdout",
     "output_type": "stream",
     "text": [
      "6\n"
     ]
    }
   ],
   "source": [
    "from collections import defaultdict\n",
    "import itertools\n",
    "\n",
    "def maxTokens(friends_nodes, friends_from, friends_to, friends_weight):\n",
    "    # assigning set of friend_nodes to their shared weights\n",
    "    #   Wieghts      nodes\n",
    "    #     1         {1,2,3}  \n",
    "    #     2         {1,2}\n",
    "    #     3         {2,3,4}\n",
    "    weights = defaultdict(set)\n",
    "    for i in range(len(friends_from)):\n",
    "        weights[friends_weight[i]].add(friends_from[i])\n",
    "        weights[friends_weight[i]].add(friends_to[i])\n",
    "    # print(weights)\n",
    "    # make set of pairs for each weight \n",
    "    #    Wieghts      nodes\n",
    "    #      1         (1,2),(2,3),(1,3)  \n",
    "    #      2         (1,2)\n",
    "    #      3         (2,3),(3,4),(2,4)\n",
    "    # count no of pairs \n",
    "    # {(1,2):2, (2,3): 2, (1,3):1, (3,4):1, (2,4):1}\n",
    "    count = defaultdict(int)\n",
    "    for key, val in weights.items():\n",
    "        for foo in list(itertools.combinations(val, 2)):\n",
    "            count[foo]+=1 \n",
    "    # print(count)\n",
    "    for num in sorted(set\n",
    "(count.values()), reverse=True):\n",
    "        # print(num, )\n",
    "        pairs = [k for k,v in count.items() if v == num]\n",
    "        if len(pairs) >= 2:\n",
    "            return max([a*b for a, b in pairs])\n",
    "friends_nodes=4\n",
    "friends_from =  [1, 1, 2, 2, 2]\n",
    "friends_to =   [2, 2, 3, 3, 4]\n",
    "friends_weight =  [1, 2, 1, 3, 3 ]\n",
    "\n",
    "print(maxTokens(friends_nodes, friends_from, friends_to, friends_weight))"
   ]
  },
  {
   "cell_type": "markdown",
   "id": "32e2d998",
   "metadata": {
    "pycharm": {
     "name": "#%% md\n"
    }
   },
   "source": [
    "## 6. Count Inversions"
   ]
  },
  {
   "cell_type": "markdown",
   "id": "d50cad67",
   "metadata": {
    "pycharm": {
     "name": "#%% md\n"
    }
   },
   "source": [
    "https://www.hackerrank.com/challenges/ctci-merge-sort/problem"
   ]
  },
  {
   "cell_type": "markdown",
   "id": "3ee98e29",
   "metadata": {
    "pycharm": {
     "name": "#%% md\n"
    }
   },
   "source": [
    "https://www.geeksforgeeks.org/counting-inversions/"
   ]
  },
  {
   "cell_type": "markdown",
   "id": "afde0a56",
   "metadata": {
    "pycharm": {
     "name": "#%% md\n"
    }
   },
   "source": [
    "https://www.geeksforgeeks.org/count-inversions-of-size-three-in-a-give-array/"
   ]
  },
  {
   "cell_type": "code",
   "execution_count": 29,
   "id": "31a46048",
   "metadata": {
    "pycharm": {
     "name": "#%%\n"
    }
   },
   "outputs": [
    {
     "name": "stdout",
     "output_type": "stream",
     "text": [
      "Inversion Count : 4\n"
     ]
    }
   ],
   "source": [
    "# A O(n^2) Python3 program to\n",
    "# count inversions of size 3\n",
    "\n",
    "# Returns count of inversions\n",
    "# of size 3\n",
    "def getInvCount(arr, n):\n",
    "\t# Initialize result\n",
    "\tinvcount = 0\n",
    "\tfor i in range(1,n-1):\n",
    "\t\t# Count all smaller elements\n",
    "\t\t# on right of arr[i]\n",
    "\t\tsmall = 0\n",
    "\t\tfor j in range(i+1 ,n):\n",
    "\t\t\tif (arr[i] > arr[j]):\n",
    "\t\t\t\tsmall+=1\n",
    "\t\t# Count all greater elements\n",
    "\t\t# on left of arr[i]\n",
    "\t\tgreat = 0;\n",
    "\t\tfor j in range(i-1,-1,-1):\n",
    "\t\t\tif (arr[i] < arr[j]):\n",
    "\t\t\t\tgreat+=1\n",
    "\t\t# Update inversion count by\n",
    "\t\t# adding all inversions that\n",
    "\t\t# have arr[i] as middle of\n",
    "\t\t# three elements\n",
    "\t\tinvcount += great * small\n",
    "\treturn invcount\n",
    "# Driver program to test above function\n",
    "arr = [8, 4, 2, 1]\n",
    "n = len(arr)\n",
    "print(\"Inversion Count :\",getInvCount(arr, n))\n",
    "# This code is Contributed by Smitha Dinesh Semwal"
   ]
  },
  {
   "cell_type": "markdown",
   "id": "1f856c81",
   "metadata": {
    "pycharm": {
     "name": "#%% md\n"
    }
   },
   "source": [
    "## 7. Ancestral Names"
   ]
  },
  {
   "cell_type": "markdown",
   "id": "02da28ef",
   "metadata": {
    "pycharm": {
     "name": "#%% md\n"
    }
   },
   "source": [
    "https://leetcode.com/discuss/interview-question/848711/roblox-new-grad-oa"
   ]
  },
  {
   "cell_type": "code",
   "execution_count": 28,
   "id": "4bd5a695",
   "metadata": {
    "pycharm": {
     "name": "#%%\n"
    }
   },
   "outputs": [],
   "source": [
    "def roman_to_int(s:str):\n",
    "    rom_to_int_map = {\"I\": 1, \"V\": 5, \"X\": 10, \"L\": 50, \"C\": 100, \"D\": 500, \"M\": 1000}\n",
    "    sub_map = {'IV': 4, 'IX':9, 'XL': 40, 'XC': 90, 'CD':400, 'CM': 900}\n",
    "    summation = 0\n",
    "    idx = 0\n",
    "\n",
    "    while idx < len(s):\n",
    "        if s[idx:idx+2] in sub_map:\n",
    "            summation += sub_map.get(s[idx:idx+2])\n",
    "            idx += 2\n",
    "        else:\n",
    "            summation += rom_to_int_map.get(s[idx])\n",
    "            idx += 1\n",
    "    return summation\n",
    "def sort_roman(names):\n",
    "    name_array = []\n",
    "    for name in names:\n",
    "        n, num = name.split()\n",
    "        num = roman_to_int(num)\n",
    "        name_array.append((n, num, name))\n",
    "    name_array.sort(key=lambda x: [x[0], x[1]])\n",
    "    return list(map(lambda x:x[2], name_array))"
   ]
  },
  {
   "cell_type": "markdown",
   "id": "76f2c172",
   "metadata": {
    "pycharm": {
     "name": "#%% md\n"
    }
   },
   "source": [
    "## 8. Lexicographically smallest and largest substring of size k"
   ]
  },
  {
   "cell_type": "markdown",
   "id": "3e736178",
   "metadata": {
    "pycharm": {
     "name": "#%% md\n"
    }
   },
   "source": [
    "https://www.geeksforgeeks.org/lexicographically-smallest-and-largest-substring-of-size-k/"
   ]
  },
  {
   "cell_type": "code",
   "execution_count": null,
   "id": "dc5a0200",
   "metadata": {
    "pycharm": {
     "name": "#%%\n"
    }
   },
   "outputs": [],
   "source": [
    "# Python 3 program to find lexicographically\n",
    "# largest and smallest substrings of size k.\n",
    "def getSmallestAndLargest(s, k):\n",
    "     \n",
    "    # Initialize min and max as\n",
    "    # first substring of size k\n",
    "    currStr = s[:k]\n",
    "    lexMin = currStr\n",
    "    lexMax = currStr\n",
    "    # Consider all remaining substrings.\n",
    "    # We consider every substring ending\n",
    "    # with index i.\n",
    "    for i in range(k, len(s)):\n",
    "        currStr = currStr[1 : k] + s[i]\n",
    "        if (lexMax < currStr):\n",
    "            lexMax = currStr\n",
    "        if (lexMin >currStr):\n",
    "            lexMin = currStr\n",
    "    # Print result.\n",
    "    print(lexMin)\n",
    "    print(lexMax)\n",
    "# Driver Code\n",
    "if __name__ == '__main__':\n",
    "    str1 = \"GeeksForGeeks\"\n",
    "    k = 3\n",
    "    getSmallestAndLargest(str1, k)"
   ]
  },
  {
   "cell_type": "markdown",
   "id": "9695246c",
   "metadata": {
    "pycharm": {
     "name": "#%% md\n"
    }
   },
   "source": [
    "## 9. Design a Stack With Increment Operation"
   ]
  },
  {
   "cell_type": "markdown",
   "id": "588e8a20",
   "metadata": {
    "pycharm": {
     "name": "#%% md\n"
    }
   },
   "source": [
    "https://leetcode.com/problems/design-a-stack-with-increment-operation/"
   ]
  },
  {
   "cell_type": "code",
   "execution_count": 30,
   "id": "4bdc5629",
   "metadata": {
    "pycharm": {
     "name": "#%%\n"
    }
   },
   "outputs": [],
   "source": [
    "class Entry:\n",
    "    def __init__(self, value, offset ):\n",
    "        self.value = value\n",
    "        self.offset = offset\n",
    "    def __repr__(self):\n",
    "        # override __repr__ to help programmer trace and debug\n",
    "        msg = [ f'value = {self.value}', f'offset = {self.offset}', '---']\n",
    "        return '\\n'.join( msg )\n",
    "class CustomStack:\n",
    "    def __init__(self, maxSize: int):\n",
    "        self.stk = []\n",
    "        self.size_limit = maxSize\n",
    "    def push(self, x: int) -> None:\n",
    "        if len(self.stk) < self.size_limit:\n",
    "            # push new element when stack size is within limit\n",
    "            self.stk.append( Entry( value = x, offset = 0) )\n",
    "    def pop(self) -> int:\n",
    "        if self.stk:\n",
    "            # fetch and pop top element from stack\n",
    "            top_element = self.stk.pop()\n",
    "            if self.stk:\n",
    "                # If stack is still non-empty, \n",
    "                # propagate increment offset to lower level\n",
    "                self.stk[-1].offset += top_element.offset\n",
    "            # compute result with increment offset\n",
    "            return top_element.value + top_element.offset\n",
    "        else:\n",
    "            # stack is empty, directly return -1\n",
    "            return -1\n",
    "    def increment(self, k: int, val: int) -> None:\n",
    "        if self.stk:\n",
    "            # update offset at k-th element when stack is non-empty\n",
    "            # adjust k if k is over stack size\n",
    "            k = min( k, len(self.stk) )\n",
    "            self.stk[k-1].offset += val"
   ]
  },
  {
   "cell_type": "markdown",
   "id": "b5ec5228",
   "metadata": {
    "pycharm": {
     "name": "#%% md\n"
    }
   },
   "source": [
    "## 10. Reaching Points"
   ]
  },
  {
   "cell_type": "markdown",
   "id": "b4e44b65",
   "metadata": {
    "pycharm": {
     "name": "#%% md\n"
    }
   },
   "source": [
    "https://leetcode.com/problems/reaching-points/"
   ]
  },
  {
   "cell_type": "code",
   "execution_count": null,
   "id": "5b2ac21d",
   "metadata": {
    "pycharm": {
     "name": "#%%\n"
    }
   },
   "outputs": [],
   "source": [
    "class Solution:\n",
    "    def reachingPoints(self, sx: int, sy: int, tx: int, ty: int) -> bool:\n",
    "        if sx > tx or sy > ty: return False\n",
    "        if sx == tx: return (ty-sy)%sx == 0 # only change y\n",
    "        if sy == ty: return (tx-sx)%sy == 0\n",
    "        if tx > ty: \n",
    "            return self.reachingPoints(sx, sy, tx%ty, ty) # make sure tx%ty < ty\n",
    "        elif tx < ty: \n",
    "            return self.reachingPoints(sx, sy, tx, ty%tx)\n",
    "        else:\n",
    "            return False"
   ]
  },
  {
   "cell_type": "markdown",
   "id": "184eed8e",
   "metadata": {
    "pycharm": {
     "name": "#%% md\n"
    }
   },
   "source": [
    "## 11. Roman to Integer"
   ]
  },
  {
   "cell_type": "markdown",
   "id": "136eae4b",
   "metadata": {
    "pycharm": {
     "name": "#%% md\n"
    }
   },
   "source": [
    "https://leetcode.com/problems/roman-to-integer/"
   ]
  },
  {
   "cell_type": "code",
   "execution_count": null,
   "id": "50acfbe2",
   "metadata": {
    "pycharm": {
     "name": "#%%\n"
    }
   },
   "outputs": [],
   "source": [
    "class Solution:\n",
    "    def romanToInt(self, s: str) -> int:\n",
    "        translations = {\n",
    "            \"I\": 1,\n",
    "            \"V\": 5,\n",
    "            \"X\": 10,\n",
    "            \"L\": 50,\n",
    "            \"C\": 100,\n",
    "            \"D\": 500,\n",
    "            \"M\": 1000\n",
    "        }\n",
    "        number = 0\n",
    "        s = s.replace(\"IV\", \"IIII\").replace(\"IX\", \"VIIII\")\n",
    "        s = s.replace(\"XL\", \"XXXX\").replace(\"XC\", \"LXXXX\")\n",
    "        s = s.replace(\"CD\", \"CCCC\").replace(\"CM\", \"DCCCC\")\n",
    "        for char in s:\n",
    "            number += translations[char]\n",
    "        return number"
   ]
  },
  {
   "cell_type": "markdown",
   "id": "2c52f174",
   "metadata": {
    "pycharm": {
     "name": "#%% md\n"
    }
   },
   "source": [
    "## 12. Stars and Bars"
   ]
  },
  {
   "cell_type": "markdown",
   "id": "c7524584",
   "metadata": {
    "pycharm": {
     "name": "#%% md\n"
    }
   },
   "source": [
    "https://www.chegg.com/homework-help/questions-and-answers/given-string-stars-bars-determine-number-stars-two-bars-within-substring-star-represented--q38765107"
   ]
  },
  {
   "cell_type": "markdown",
   "id": "b989296a",
   "metadata": {
    "pycharm": {
     "name": "#%% md\n"
    }
   },
   "source": [
    "#### Given a string that contains only ‘|’ and ‘*’, an array startIndex, an array endIndex. Return array of number of ‘*’ falls into ‘|’. Note that the index starts from 1."
   ]
  },
  {
   "cell_type": "code",
   "execution_count": 35,
   "id": "91be3b67",
   "metadata": {
    "pycharm": {
     "name": "#%%\n"
    }
   },
   "outputs": [
    {
     "name": "stdout",
     "output_type": "stream",
     "text": [
      "3\n"
     ]
    }
   ],
   "source": [
    "S='|**|*|*'\n",
    "\n",
    "print(S[0:6].strip('*').count('*'))"
   ]
  },
  {
   "cell_type": "markdown",
   "id": "6084b10c",
   "metadata": {
    "pycharm": {
     "name": "#%% md\n"
    }
   },
   "source": [
    "## 13. Jump to the flag"
   ]
  },
  {
   "cell_type": "markdown",
   "id": "5a46e10f",
   "metadata": {
    "pycharm": {
     "name": "#%% md\n"
    }
   },
   "source": [
    "https://www.1point3acres.com/bbs/thread-841725-1-1.html"
   ]
  },
  {
   "cell_type": "code",
   "execution_count": 1,
   "id": "4ca0c636",
   "metadata": {
    "pycharm": {
     "name": "#%%\n"
    }
   },
   "outputs": [],
   "source": [
    "def jumps(flag: int, big: int) -> int:\n",
    "    if flag <= 1:\n",
    "        return flag\n",
    "    if big > flag:\n",
    "        return flag\n",
    "    dp = [float(\"inf\") for i in range(flag)]\n",
    "    for i in range(1, big):\n",
    "        dp[i - 1] = i\n",
    "    dp[big - 1] = 1\n",
    "    for i in range(big, flag):\n",
    "        dp[i] = min(dp[i - 1] + 1, dp[i - big] + 1)\n",
    "    return dp[-1]"
   ]
  },
  {
   "cell_type": "markdown",
   "id": "2ed83b49",
   "metadata": {
    "pycharm": {
     "name": "#%% md\n"
    }
   },
   "source": [
    "## 14. Fizz Buzz"
   ]
  },
  {
   "cell_type": "markdown",
   "id": "53c0c0cf",
   "metadata": {
    "pycharm": {
     "name": "#%% md\n"
    }
   },
   "source": [
    "https://leetcode.com/problems/fizz-buzz/"
   ]
  },
  {
   "cell_type": "code",
   "execution_count": 12,
   "id": "44e1abd3",
   "metadata": {
    "pycharm": {
     "name": "#%%\n"
    }
   },
   "outputs": [],
   "source": [
    "class Solution:\n",
    "    def fizzBuzz(self, n):\n",
    "        \"\"\"\n",
    "        :type n: int\n",
    "        :rtype: List[str]\n",
    "        \"\"\"\n",
    "        # ans list\n",
    "        ans = []\n",
    "\n",
    "        for num in range(1,n+1):\n",
    "\n",
    "            divisible_by_3 = (num % 3 == 0)\n",
    "            divisible_by_5 = (num % 5 == 0)\n",
    "\n",
    "            if divisible_by_3 and divisible_by_5:\n",
    "                # Divides by both 3 and 5, add FizzBuzz\n",
    "                ans.append(\"FizzBuzz\")\n",
    "            elif divisible_by_3:\n",
    "                # Divides by 3, add Fizz\n",
    "                ans.append(\"Fizz\")\n",
    "            elif divisible_by_5:\n",
    "                # Divides by 5, add Buzz\n",
    "                ans.append(\"Buzz\")\n",
    "            else:\n",
    "                # Not divisible by 3 or 5, add the number\n",
    "                ans.append(str(num))\n",
    "\n",
    "        return ans\n",
    "        "
   ]
  },
  {
   "cell_type": "markdown",
   "id": "0e5abb71",
   "metadata": {
    "pycharm": {
     "name": "#%% md\n"
    }
   },
   "source": [
    "## 15. Find the Distance Value Between Two Arrays"
   ]
  },
  {
   "cell_type": "markdown",
   "id": "6a7920c5",
   "metadata": {
    "pycharm": {
     "name": "#%% md\n"
    }
   },
   "source": [
    "https://leetcode.com/problems/find-the-distance-value-between-two-arrays/"
   ]
  },
  {
   "cell_type": "code",
   "execution_count": 29,
   "id": "56822ecf",
   "metadata": {
    "pycharm": {
     "name": "#%%\n"
    }
   },
   "outputs": [],
   "source": [
    "class Solution(object):\n",
    "    def findTheDistanceValue(self, arr1, arr2, d):\n",
    "        arr2.sort()\n",
    "        count=0\n",
    "        for x in arr1:\n",
    "            l, r = 0, len(arr2)\n",
    "            while l < r:\n",
    "                mid = (l + r) // 2\n",
    "                if abs(arr2[mid] - x) <= d:\n",
    "                    count-=1\n",
    "                    break\n",
    "                elif arr2[mid] > x:\n",
    "                    r = mid\n",
    "                else:\n",
    "                    l = mid + 1\n",
    "            count+=1\n",
    "        return count"
   ]
  }
 ],
 "metadata": {
  "kernelspec": {
   "display_name": "Python 3 (ipykernel)",
   "language": "python",
   "name": "python3"
  },
  "language_info": {
   "codemirror_mode": {
    "name": "ipython",
    "version": 3
   },
   "file_extension": ".py",
   "mimetype": "text/x-python",
   "name": "python",
   "nbconvert_exporter": "python",
   "pygments_lexer": "ipython3",
   "version": "3.9.9"
  }
 },
 "nbformat": 4,
 "nbformat_minor": 5
}